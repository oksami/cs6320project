{
  "nbformat": 4,
  "nbformat_minor": 0,
  "metadata": {
    "colab": {
      "provenance": [],
      "authorship_tag": "ABX9TyN6yuiCKE2GvtgT+xXrDny+",
      "include_colab_link": true
    },
    "kernelspec": {
      "name": "python3",
      "display_name": "Python 3"
    },
    "language_info": {
      "name": "python"
    }
  },
  "cells": [
    {
      "cell_type": "markdown",
      "metadata": {
        "id": "view-in-github",
        "colab_type": "text"
      },
      "source": [
        "<a href=\"https://colab.research.google.com/github/oksami/cs6320project/blob/main/Intent_Recognition.ipynb\" target=\"_parent\"><img src=\"https://colab.research.google.com/assets/colab-badge.svg\" alt=\"Open In Colab\"/></a>"
      ]
    },
    {
      "cell_type": "code",
      "execution_count": null,
      "metadata": {
        "id": "hgoFu4E0qta4"
      },
      "outputs": [],
      "source": [
        "import re\n",
        "import pandas as pd\n",
        "\n",
        "\n",
        "# Defining the intent patterns and regexes for each class\n",
        "intent_patterns = {\n",
        "    \"recommend\": r\"\\b(recommend|show|suggest|list|give|find|top|best|fossil-free|gender equality|deforestation-free|gun-free|tobacco-free|prison-free|weapon-free)\\b\",\n",
        "    \"sentiment\": r\"\\b(feel|sentiments?|feelings?|opinions?|positive(ly)?|negative(ly)?|news|thinks?|public|rated?|people)\\b\",\n",
        "    \"visualizing\": r\"\\b(compare|visualize|show|top|display|view|contrast|analyze)\\b\"\n",
        "}\n",
        "\n",
        "# Function to extract intent based on regex matching\n",
        "def extract_intent(query):\n",
        "    query = query.lower()  # Convert to lowercase for case-insensitivity\n",
        "\n",
        "    # Matching each intent regex pattern to the query\n",
        "    for intent, pattern in intent_patterns.items():\n",
        "        if re.search(pattern, query):\n",
        "            return intent\n",
        "\n",
        "    return \"unknown\"\n"
      ]
    }
  ]
}