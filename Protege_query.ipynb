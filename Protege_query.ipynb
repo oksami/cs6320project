{
  "nbformat": 4,
  "nbformat_minor": 0,
  "metadata": {
    "colab": {
      "provenance": [],
      "authorship_tag": "ABX9TyM5OcBTA+HQmzJcRMS4TilI",
      "include_colab_link": true
    },
    "kernelspec": {
      "name": "python3",
      "display_name": "Python 3"
    },
    "language_info": {
      "name": "python"
    }
  },
  "cells": [
    {
      "cell_type": "markdown",
      "metadata": {
        "id": "view-in-github",
        "colab_type": "text"
      },
      "source": [
        "<a href=\"https://colab.research.google.com/github/oksami/cs6320project/blob/main/Protege_query.ipynb\" target=\"_parent\"><img src=\"https://colab.research.google.com/assets/colab-badge.svg\" alt=\"Open In Colab\"/></a>"
      ]
    },
    {
      "cell_type": "code",
      "execution_count": 1,
      "metadata": {
        "colab": {
          "base_uri": "https://localhost:8080/"
        },
        "id": "iDXu3oEBnbK_",
        "outputId": "1cc99f60-8478-4a8b-bcd3-f1f18ff29b9b"
      },
      "outputs": [
        {
          "output_type": "stream",
          "name": "stdout",
          "text": [
            "Mounted at /content/drive\n"
          ]
        }
      ],
      "source": [
        "from google.colab import drive\n",
        "drive.mount('/content/drive')"
      ]
    },
    {
      "cell_type": "code",
      "source": [
        "pip install owlready2\n"
      ],
      "metadata": {
        "colab": {
          "base_uri": "https://localhost:8080/"
        },
        "id": "unzE8cIUrUWm",
        "outputId": "0e9605cf-a965-4281-be1c-d1160b94e21e"
      },
      "execution_count": 2,
      "outputs": [
        {
          "output_type": "stream",
          "name": "stdout",
          "text": [
            "Collecting owlready2\n",
            "  Downloading owlready2-0.47.tar.gz (27.3 MB)\n",
            "\u001b[2K     \u001b[90m━━━━━━━━━━━━━━━━━━━━━━━━━━━━━━━━━━━━━━━━\u001b[0m \u001b[32m27.3/27.3 MB\u001b[0m \u001b[31m45.6 MB/s\u001b[0m eta \u001b[36m0:00:00\u001b[0m\n",
            "\u001b[?25h  Installing build dependencies ... \u001b[?25l\u001b[?25hdone\n",
            "  Getting requirements to build wheel ... \u001b[?25l\u001b[?25hdone\n",
            "  Preparing metadata (pyproject.toml) ... \u001b[?25l\u001b[?25hdone\n",
            "Building wheels for collected packages: owlready2\n",
            "  Building wheel for owlready2 (pyproject.toml) ... \u001b[?25l\u001b[?25hdone\n",
            "  Created wheel for owlready2: filename=owlready2-0.47-cp310-cp310-linux_x86_64.whl size=24075198 sha256=5fdcad18c2b815e5211044fce43f634aa507507662a7ec0958ba9435813e328a\n",
            "  Stored in directory: /root/.cache/pip/wheels/27/3e/ba/4171c4b10bba9fe1774fbf8fcf794de889e636ce64ad83a533\n",
            "Successfully built owlready2\n",
            "Installing collected packages: owlready2\n",
            "Successfully installed owlready2-0.47\n"
          ]
        }
      ]
    },
    {
      "cell_type": "code",
      "source": [
        "import torch\n",
        "import re\n",
        "import pandas as pd\n",
        "from owlready2 import *\n",
        "\n",
        "onto = get_ontology(\"/content/drive/MyDrive/Data_NLP/Protege_project.rdf\").load()\n",
        "# Map recognized fund types to ontology class names\n",
        "fund_type_mapping = {\n",
        "    \"fossil-free\": \"FossilFreeFund\",\n",
        "    \"deforestation-free\": \"DeforestationFreeFund\",\n",
        "    \"gender equality\": \"GenderEqualityFund\",\n",
        "    \"gun-free\": \"GunFreeFund\",\n",
        "    \"prison-free\": \"PrisonFreeFund\",\n",
        "    \"tobacco-free\": \"TobaccoFreeFund\",\n",
        "    \"weapon-free\": \"WeaponFreeFund\"\n",
        "}\n",
        "\n",
        "# Query ontology function (updated for multiple grades)\n",
        "def query_ontology(onto, fund_types, grades):\n",
        "    results = defaultdict(list)  # Group results by grade\n",
        "    for fund_type in fund_types:\n",
        "        fund_class = getattr(onto, fund_type_mapping[fund_type], None)\n",
        "        if fund_class:\n",
        "            for individual in fund_class.instances():\n",
        "                if hasattr(individual, \"Grade\"):\n",
        "                    # Check each grade in the query and group funds by grade\n",
        "                    for grade in grades:\n",
        "                        if grade in individual.Grade:\n",
        "                            results[grade].append({\n",
        "                                \"name\": individual.name,\n",
        "                                \"grade\": grade,\n",
        "                                \"share_class\": getattr(individual, \"ShareClassType\", \"N/A\"),\n",
        "                                \"category\": getattr(individual, \"CategoryGroup\", \"N/A\"),\n",
        "                                \"weight\": getattr(individual, \"Weight\", \"N/A\")\n",
        "                            })\n",
        "\n",
        "    return results\n",
        "\n",
        "# Display results in a chatbot-friendly format (updated for multiple grades)\n",
        "def display_detailed_results(funds_by_grade, grades, fund_types):\n",
        "    if not funds_by_grade:\n",
        "        return f\"I'm sorry, I couldn't find any funds matching {(fund_types)} with grades: {(grades)}.\"\n",
        "\n",
        "    response = f\"Here are the top recommendations for {(fund_types)} funds with the requested grades:\\n\\n\"\n",
        "\n",
        "    for grade in grades:\n",
        "        if grade in funds_by_grade:\n",
        "            response += f\"Grade: {grade}\\n\"\n",
        "            for idx, fund in enumerate(funds_by_grade[grade][:5], 1):  # Limit to top 5 per grade\n",
        "                response += (\n",
        "                    f\"{idx}. Fund: {fund['name']}\\n\"\n",
        "                    f\"   - Share Class: {fund['share_class']}\\n\"\n",
        "                    f\"   - Category: {fund['category']}\\n\"\n",
        "                    f\"   - Weight: {fund['weight']}\\n\"\n",
        "                )\n",
        "            response += \"\\n\"\n",
        "\n",
        "    response += \"Would you like more funds under any other criteria?\"\n",
        "    return response\n"
      ],
      "metadata": {
        "id": "Gsk2IsuirUeW"
      },
      "execution_count": 3,
      "outputs": []
    }
  ]
}