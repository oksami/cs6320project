{
  "nbformat": 4,
  "nbformat_minor": 0,
  "metadata": {
    "colab": {
      "provenance": [],
      "authorship_tag": "ABX9TyOM+BZCDNKAznp583Q+DlML",
      "include_colab_link": true
    },
    "kernelspec": {
      "name": "python3",
      "display_name": "Python 3"
    },
    "language_info": {
      "name": "python"
    }
  },
  "cells": [
    {
      "cell_type": "markdown",
      "metadata": {
        "id": "view-in-github",
        "colab_type": "text"
      },
      "source": [
        "<a href=\"https://colab.research.google.com/github/oksami/cs6320project/blob/main/process_query.ipynb\" target=\"_parent\"><img src=\"https://colab.research.google.com/assets/colab-badge.svg\" alt=\"Open In Colab\"/></a>"
      ]
    },
    {
      "cell_type": "code",
      "execution_count": 5,
      "metadata": {
        "id": "2gEbdrjmxK0o"
      },
      "outputs": [],
      "source": [
        "import re\n",
        "import pandas as pd\n",
        "# Define the process_query function\n",
        "def process_query(query):\n",
        "    \"\"\"\n",
        "    Processes the query to recognize intent and extract relevant entities (fund type, grades).\n",
        "\n",
        "    Args:\n",
        "        query (str): The user's input query.\n",
        "\n",
        "    Returns:\n",
        "        dict: A dictionary containing the predicted intent, fund type, and grades.\n",
        "    \"\"\"\n",
        "\n",
        "\n",
        "    # Entity Extraction (fund type and grades)\n",
        "    # Define regex patterns for fund type and grades\n",
        "    fund_type_pattern = r\"(fossil-free|gender equality|deforestation-free|gun-free|tobacco-free|prison-free|weapon-free)\"\n",
        "    grade_pattern = r\"\\b[A-F]\\b\"  # Matches grades A to F\n",
        "\n",
        "    # Extract fund type (fund-related categories)\n",
        "    fund_type_match = re.search(fund_type_pattern, query)\n",
        "    fund_type = fund_type_match.group(0) if fund_type_match else \"Not specified\"\n",
        "\n",
        "    # Extract grades (A to F)\n",
        "    grades = re.findall(grade_pattern, query)\n",
        "    grade = ', '.join(grades) if grades else \"Not specified\"\n",
        "\n",
        "    # Combine results into a dictionary\n",
        "    result = {\n",
        "        \"fund_type\": fund_type,\n",
        "        \"grades\": grade\n",
        "    }\n",
        "\n",
        "    return result\n",
        "\n",
        "\n"
      ]
    }
  ]
}